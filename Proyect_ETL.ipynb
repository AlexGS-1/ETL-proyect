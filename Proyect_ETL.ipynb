{
 "cells": [
  {
   "cell_type": "code",
   "execution_count": 1,
   "metadata": {},
   "outputs": [],
   "source": [
    "import pandas as pd\n",
    "import numpy as np\n",
    "from sqlalchemy import create_engine"
   ]
  },
  {
   "cell_type": "markdown",
   "metadata": {},
   "source": [
    "## CSV Import"
   ]
  },
  {
   "cell_type": "code",
   "execution_count": 2,
   "metadata": {},
   "outputs": [],
   "source": [
    "csv_file_crunchy = \"crunchyroll.csv\"\n",
    "csv_file_mal = \"myanimelist.csv\"\n",
    "crunchy_df = pd.read_csv(csv_file_crunchy )\n",
    "mal_df = pd.read_csv(csv_file_mal)\n"
   ]
  },
  {
   "cell_type": "code",
   "execution_count": 3,
   "metadata": {},
   "outputs": [],
   "source": [
    "#Drop duplicates in column title, lower de cases, and remove non alphabeticals, and normalize rate, and score\n",
    "crunchy_df.drop_duplicates(subset =\"anime\", \n",
    "                     keep = \"first\", inplace = True) \n",
    "mal_df.drop_duplicates(subset =\"title\", \n",
    "                     keep =\"first\" , inplace = True) \n",
    "\n",
    "crunchy_df[\"anime\"]=crunchy_df['anime'].str.lower()\n",
    "mal_df[\"title\"]=mal_df['title'].str.lower()\n",
    "\n",
    "crunchy_df[\"anime\"]=  crunchy_df['anime'].astype(str).str.replace('[^a-z,0-9,\" \"]', '')\n",
    "mal_df[\"title\"]=mal_df['title'].astype(str).str.replace('[^a-z,0-9,\" \"]', '')\n",
    "\n",
    "crunchy_df['rate']= crunchy_df['rate']/5 *100\n",
    "mal_df['score']=mal_df['score']/10 *100"
   ]
  },
  {
   "cell_type": "code",
   "execution_count": 4,
   "metadata": {
    "scrolled": true
   },
   "outputs": [
    {
     "data": {
      "text/plain": [
       "array(['anime', 'anime_url', 'anime_img', 'episodes', 'votes', 'weight',\n",
       "       'rate', 'rate_1', 'rate_2', 'rate_3', 'rate_4', 'rate_5',\n",
       "       'genre_action', 'genre_adventure', 'genre_comedy', 'genre_drama',\n",
       "       'genre_family', 'genre_fantasy', 'genre_food', 'genre_harem',\n",
       "       'genre_historical', 'genre_horror', 'genre_idols', 'genre_isekai',\n",
       "       'genre_jdrama', 'genre_magical girls', 'genre_martial arts',\n",
       "       'genre_mecha', 'genre_music', 'genre_mystery',\n",
       "       'genre_post-apocalyptic', 'genre_romance', 'genre_sci-fi',\n",
       "       'genre_seinen', 'genre_sgdrama', 'genre_shojo', 'genre_shonen',\n",
       "       'genre_slice of life', 'genre_sports', 'genre_supernatural',\n",
       "       'genre_thriller'], dtype=object)"
      ]
     },
     "execution_count": 4,
     "metadata": {},
     "output_type": "execute_result"
    }
   ],
   "source": [
    "crunchy_df.columns.values"
   ]
  },
  {
   "cell_type": "code",
   "execution_count": 5,
   "metadata": {},
   "outputs": [
    {
     "data": {
      "text/plain": [
       "array(['uid', 'title', 'synopsis', 'genre', 'aired', 'episodes',\n",
       "       'members', 'popularity', 'ranked', 'score', 'img_url', 'link'],\n",
       "      dtype=object)"
      ]
     },
     "execution_count": 5,
     "metadata": {},
     "output_type": "execute_result"
    }
   ],
   "source": [
    "mal_df.columns.values"
   ]
  },
  {
   "cell_type": "code",
   "execution_count": 6,
   "metadata": {},
   "outputs": [],
   "source": [
    "#Unpivot/desaggregate crunchy_df_2\n",
    "crunchy_df_2 = pd.melt(crunchy_df, id_vars=['anime', 'anime_url','episodes','rate'], value_vars=['genre_action', 'genre_adventure', 'genre_comedy', 'genre_drama',\n",
    "       'genre_family', 'genre_fantasy', 'genre_food', 'genre_harem',\n",
    "       'genre_historical', 'genre_horror', 'genre_idols', 'genre_isekai',\n",
    "       'genre_jdrama', 'genre_magical girls', 'genre_martial arts',\n",
    "       'genre_mecha', 'genre_music', 'genre_mystery',\n",
    "       'genre_post-apocalyptic', 'genre_romance', 'genre_sci-fi',\n",
    "       'genre_seinen', 'genre_sgdrama', 'genre_shojo', 'genre_shonen',\n",
    "       'genre_slice of life', 'genre_sports', 'genre_supernatural',\n",
    "       'genre_thriller'])\n",
    "\n"
   ]
  },
  {
   "cell_type": "code",
   "execution_count": 7,
   "metadata": {},
   "outputs": [],
   "source": [
    "#For each row make each list element on the column genre in mal_df a datapoint  \n",
    "title=[]\n",
    "episodes = []\n",
    "score =[]\n",
    "link= []\n",
    "genre=[]\n",
    "for index, data in mal_df.iterrows():\n",
    "  \n",
    "   \n",
    "     \n",
    "    time = data['genre'] \n",
    "    time=time.replace('[', '') \n",
    "    time=time.replace(']','')\n",
    "    time= time.split(',')\n",
    "    \n",
    "    for row in time:\n",
    "        genre.append(row)\n",
    "        title.append(data['title'])\n",
    "        episodes.append(data['episodes'])\n",
    "        score.append(data['score'])\n",
    "        link.append(data['link'])\n",
    "        \n"
   ]
  },
  {
   "cell_type": "code",
   "execution_count": 8,
   "metadata": {},
   "outputs": [],
   "source": [
    "dict = {'title': title,'link':link,'episodes': episodes,'score':score, 'genre':genre} \n",
    "mal_df_2 = pd.DataFrame(dict)"
   ]
  },
  {
   "cell_type": "code",
   "execution_count": 9,
   "metadata": {
    "scrolled": true
   },
   "outputs": [
    {
     "data": {
      "text/html": [
       "<div>\n",
       "<style scoped>\n",
       "    .dataframe tbody tr th:only-of-type {\n",
       "        vertical-align: middle;\n",
       "    }\n",
       "\n",
       "    .dataframe tbody tr th {\n",
       "        vertical-align: top;\n",
       "    }\n",
       "\n",
       "    .dataframe thead th {\n",
       "        text-align: right;\n",
       "    }\n",
       "</style>\n",
       "<table border=\"1\" class=\"dataframe\">\n",
       "  <thead>\n",
       "    <tr style=\"text-align: right;\">\n",
       "      <th></th>\n",
       "      <th>anime</th>\n",
       "      <th>anime_url</th>\n",
       "      <th>episodes</th>\n",
       "      <th>rate</th>\n",
       "      <th>variable</th>\n",
       "      <th>value</th>\n",
       "    </tr>\n",
       "  </thead>\n",
       "  <tbody>\n",
       "    <tr>\n",
       "      <th>0</th>\n",
       "      <td>naruto shippuuden</td>\n",
       "      <td>https://www.crunchyroll.com/naruto-shippuden</td>\n",
       "      <td>500</td>\n",
       "      <td>96.2</td>\n",
       "      <td>genre_action</td>\n",
       "      <td>0.0</td>\n",
       "    </tr>\n",
       "    <tr>\n",
       "      <th>1</th>\n",
       "      <td>shugo chara</td>\n",
       "      <td>https://www.crunchyroll.com/shugo-chara</td>\n",
       "      <td>51</td>\n",
       "      <td>97.2</td>\n",
       "      <td>genre_action</td>\n",
       "      <td>0.0</td>\n",
       "    </tr>\n",
       "    <tr>\n",
       "      <th>2</th>\n",
       "      <td>bleach</td>\n",
       "      <td>https://www.crunchyroll.com/bleach</td>\n",
       "      <td>366</td>\n",
       "      <td>96.6</td>\n",
       "      <td>genre_action</td>\n",
       "      <td>0.0</td>\n",
       "    </tr>\n",
       "    <tr>\n",
       "      <th>3</th>\n",
       "      <td>naruto</td>\n",
       "      <td>https://www.crunchyroll.com/naruto</td>\n",
       "      <td>220</td>\n",
       "      <td>96.0</td>\n",
       "      <td>genre_action</td>\n",
       "      <td>0.0</td>\n",
       "    </tr>\n",
       "    <tr>\n",
       "      <th>4</th>\n",
       "      <td>skip beat</td>\n",
       "      <td>https://www.crunchyroll.com/skip-beat</td>\n",
       "      <td>0</td>\n",
       "      <td>98.2</td>\n",
       "      <td>genre_action</td>\n",
       "      <td>0.0</td>\n",
       "    </tr>\n",
       "  </tbody>\n",
       "</table>\n",
       "</div>"
      ],
      "text/plain": [
       "               anime                                     anime_url  episodes  \\\n",
       "0  naruto shippuuden  https://www.crunchyroll.com/naruto-shippuden       500   \n",
       "1        shugo chara       https://www.crunchyroll.com/shugo-chara        51   \n",
       "2             bleach            https://www.crunchyroll.com/bleach       366   \n",
       "3             naruto            https://www.crunchyroll.com/naruto       220   \n",
       "4          skip beat         https://www.crunchyroll.com/skip-beat         0   \n",
       "\n",
       "   rate      variable  value  \n",
       "0  96.2  genre_action    0.0  \n",
       "1  97.2  genre_action    0.0  \n",
       "2  96.6  genre_action    0.0  \n",
       "3  96.0  genre_action    0.0  \n",
       "4  98.2  genre_action    0.0  "
      ]
     },
     "execution_count": 9,
     "metadata": {},
     "output_type": "execute_result"
    }
   ],
   "source": [
    "crunchy_df_2.head(5)\n"
   ]
  },
  {
   "cell_type": "code",
   "execution_count": 10,
   "metadata": {
    "scrolled": false
   },
   "outputs": [
    {
     "data": {
      "text/html": [
       "<div>\n",
       "<style scoped>\n",
       "    .dataframe tbody tr th:only-of-type {\n",
       "        vertical-align: middle;\n",
       "    }\n",
       "\n",
       "    .dataframe tbody tr th {\n",
       "        vertical-align: top;\n",
       "    }\n",
       "\n",
       "    .dataframe thead th {\n",
       "        text-align: right;\n",
       "    }\n",
       "</style>\n",
       "<table border=\"1\" class=\"dataframe\">\n",
       "  <thead>\n",
       "    <tr style=\"text-align: right;\">\n",
       "      <th></th>\n",
       "      <th>title</th>\n",
       "      <th>link</th>\n",
       "      <th>episodes</th>\n",
       "      <th>score</th>\n",
       "      <th>genre</th>\n",
       "    </tr>\n",
       "  </thead>\n",
       "  <tbody>\n",
       "    <tr>\n",
       "      <th>0</th>\n",
       "      <td>haikyuu second season</td>\n",
       "      <td>https://myanimelist.net/anime/28891/Haikyuu_Se...</td>\n",
       "      <td>25.0</td>\n",
       "      <td>88.2</td>\n",
       "      <td>'Comedy'</td>\n",
       "    </tr>\n",
       "    <tr>\n",
       "      <th>1</th>\n",
       "      <td>haikyuu second season</td>\n",
       "      <td>https://myanimelist.net/anime/28891/Haikyuu_Se...</td>\n",
       "      <td>25.0</td>\n",
       "      <td>88.2</td>\n",
       "      <td>'Sports'</td>\n",
       "    </tr>\n",
       "    <tr>\n",
       "      <th>2</th>\n",
       "      <td>haikyuu second season</td>\n",
       "      <td>https://myanimelist.net/anime/28891/Haikyuu_Se...</td>\n",
       "      <td>25.0</td>\n",
       "      <td>88.2</td>\n",
       "      <td>'Drama'</td>\n",
       "    </tr>\n",
       "    <tr>\n",
       "      <th>3</th>\n",
       "      <td>haikyuu second season</td>\n",
       "      <td>https://myanimelist.net/anime/28891/Haikyuu_Se...</td>\n",
       "      <td>25.0</td>\n",
       "      <td>88.2</td>\n",
       "      <td>'School'</td>\n",
       "    </tr>\n",
       "    <tr>\n",
       "      <th>4</th>\n",
       "      <td>haikyuu second season</td>\n",
       "      <td>https://myanimelist.net/anime/28891/Haikyuu_Se...</td>\n",
       "      <td>25.0</td>\n",
       "      <td>88.2</td>\n",
       "      <td>'Shounen'</td>\n",
       "    </tr>\n",
       "  </tbody>\n",
       "</table>\n",
       "</div>"
      ],
      "text/plain": [
       "                   title                                               link  \\\n",
       "0  haikyuu second season  https://myanimelist.net/anime/28891/Haikyuu_Se...   \n",
       "1  haikyuu second season  https://myanimelist.net/anime/28891/Haikyuu_Se...   \n",
       "2  haikyuu second season  https://myanimelist.net/anime/28891/Haikyuu_Se...   \n",
       "3  haikyuu second season  https://myanimelist.net/anime/28891/Haikyuu_Se...   \n",
       "4  haikyuu second season  https://myanimelist.net/anime/28891/Haikyuu_Se...   \n",
       "\n",
       "   episodes  score       genre  \n",
       "0      25.0   88.2    'Comedy'  \n",
       "1      25.0   88.2    'Sports'  \n",
       "2      25.0   88.2     'Drama'  \n",
       "3      25.0   88.2    'School'  \n",
       "4      25.0   88.2   'Shounen'  "
      ]
     },
     "execution_count": 10,
     "metadata": {},
     "output_type": "execute_result"
    }
   ],
   "source": [
    "mal_df_2.head()"
   ]
  },
  {
   "cell_type": "code",
   "execution_count": 11,
   "metadata": {},
   "outputs": [],
   "source": [
    "crunchy_df = crunchy_df[['anime', 'anime_url', 'episodes','rate']].copy()"
   ]
  },
  {
   "cell_type": "markdown",
   "metadata": {},
   "source": [
    "# Transformations to data"
   ]
  },
  {
   "cell_type": "code",
   "execution_count": 12,
   "metadata": {
    "scrolled": true
   },
   "outputs": [],
   "source": [
    "crunchy_df_2=crunchy_df_2.drop(['value'],axis=1)\n",
    "crunchy_df_2['variable'] = crunchy_df_2['variable'].str.replace('genre_', '').astype(str)\n",
    "crunchy_df_2 = crunchy_df_2.rename(columns={\"anime\": \"title\",\"anime_url\":\"url\", \"rate\":\"score\",\"variable\":\"genre\"})\n"
   ]
  },
  {
   "cell_type": "code",
   "execution_count": 13,
   "metadata": {},
   "outputs": [
    {
     "data": {
      "text/html": [
       "<div>\n",
       "<style scoped>\n",
       "    .dataframe tbody tr th:only-of-type {\n",
       "        vertical-align: middle;\n",
       "    }\n",
       "\n",
       "    .dataframe tbody tr th {\n",
       "        vertical-align: top;\n",
       "    }\n",
       "\n",
       "    .dataframe thead th {\n",
       "        text-align: right;\n",
       "    }\n",
       "</style>\n",
       "<table border=\"1\" class=\"dataframe\">\n",
       "  <thead>\n",
       "    <tr style=\"text-align: right;\">\n",
       "      <th></th>\n",
       "      <th>title</th>\n",
       "      <th>url</th>\n",
       "      <th>episodes</th>\n",
       "      <th>score</th>\n",
       "      <th>genre</th>\n",
       "    </tr>\n",
       "  </thead>\n",
       "  <tbody>\n",
       "    <tr>\n",
       "      <th>0</th>\n",
       "      <td>naruto shippuuden</td>\n",
       "      <td>https://www.crunchyroll.com/naruto-shippuden</td>\n",
       "      <td>500</td>\n",
       "      <td>96.2</td>\n",
       "      <td>action</td>\n",
       "    </tr>\n",
       "    <tr>\n",
       "      <th>1</th>\n",
       "      <td>shugo chara</td>\n",
       "      <td>https://www.crunchyroll.com/shugo-chara</td>\n",
       "      <td>51</td>\n",
       "      <td>97.2</td>\n",
       "      <td>action</td>\n",
       "    </tr>\n",
       "    <tr>\n",
       "      <th>2</th>\n",
       "      <td>bleach</td>\n",
       "      <td>https://www.crunchyroll.com/bleach</td>\n",
       "      <td>366</td>\n",
       "      <td>96.6</td>\n",
       "      <td>action</td>\n",
       "    </tr>\n",
       "    <tr>\n",
       "      <th>3</th>\n",
       "      <td>naruto</td>\n",
       "      <td>https://www.crunchyroll.com/naruto</td>\n",
       "      <td>220</td>\n",
       "      <td>96.0</td>\n",
       "      <td>action</td>\n",
       "    </tr>\n",
       "    <tr>\n",
       "      <th>4</th>\n",
       "      <td>skip beat</td>\n",
       "      <td>https://www.crunchyroll.com/skip-beat</td>\n",
       "      <td>0</td>\n",
       "      <td>98.2</td>\n",
       "      <td>action</td>\n",
       "    </tr>\n",
       "  </tbody>\n",
       "</table>\n",
       "</div>"
      ],
      "text/plain": [
       "               title                                           url  episodes  \\\n",
       "0  naruto shippuuden  https://www.crunchyroll.com/naruto-shippuden       500   \n",
       "1        shugo chara       https://www.crunchyroll.com/shugo-chara        51   \n",
       "2             bleach            https://www.crunchyroll.com/bleach       366   \n",
       "3             naruto            https://www.crunchyroll.com/naruto       220   \n",
       "4          skip beat         https://www.crunchyroll.com/skip-beat         0   \n",
       "\n",
       "   score   genre  \n",
       "0   96.2  action  \n",
       "1   97.2  action  \n",
       "2   96.6  action  \n",
       "3   96.0  action  \n",
       "4   98.2  action  "
      ]
     },
     "execution_count": 13,
     "metadata": {},
     "output_type": "execute_result"
    }
   ],
   "source": [
    "crunchy_df_2.head(5)"
   ]
  },
  {
   "cell_type": "code",
   "execution_count": 14,
   "metadata": {},
   "outputs": [],
   "source": [
    "mal_df_2['genre'] = mal_df_2['genre'].str.replace(\"'\", '').astype(str)\n",
    "mal_df_2[\"genre\"]=mal_df_2['genre'].str.lower()\n",
    "mal_df_2 = mal_df_2[mal_df_2['episodes'].notnull()]\n",
    "mal_df_2['episodes'] = mal_df_2['episodes'].astype(int)\n",
    "mal_df_2 = mal_df_2.rename(columns={\"link\":\"url\"})"
   ]
  },
  {
   "cell_type": "code",
   "execution_count": 15,
   "metadata": {},
   "outputs": [
    {
     "data": {
      "text/html": [
       "<div>\n",
       "<style scoped>\n",
       "    .dataframe tbody tr th:only-of-type {\n",
       "        vertical-align: middle;\n",
       "    }\n",
       "\n",
       "    .dataframe tbody tr th {\n",
       "        vertical-align: top;\n",
       "    }\n",
       "\n",
       "    .dataframe thead th {\n",
       "        text-align: right;\n",
       "    }\n",
       "</style>\n",
       "<table border=\"1\" class=\"dataframe\">\n",
       "  <thead>\n",
       "    <tr style=\"text-align: right;\">\n",
       "      <th></th>\n",
       "      <th>title</th>\n",
       "      <th>url</th>\n",
       "      <th>episodes</th>\n",
       "      <th>score</th>\n",
       "      <th>genre</th>\n",
       "    </tr>\n",
       "  </thead>\n",
       "  <tbody>\n",
       "    <tr>\n",
       "      <th>0</th>\n",
       "      <td>haikyuu second season</td>\n",
       "      <td>https://myanimelist.net/anime/28891/Haikyuu_Se...</td>\n",
       "      <td>25</td>\n",
       "      <td>88.2</td>\n",
       "      <td>comedy</td>\n",
       "    </tr>\n",
       "    <tr>\n",
       "      <th>1</th>\n",
       "      <td>haikyuu second season</td>\n",
       "      <td>https://myanimelist.net/anime/28891/Haikyuu_Se...</td>\n",
       "      <td>25</td>\n",
       "      <td>88.2</td>\n",
       "      <td>sports</td>\n",
       "    </tr>\n",
       "    <tr>\n",
       "      <th>2</th>\n",
       "      <td>haikyuu second season</td>\n",
       "      <td>https://myanimelist.net/anime/28891/Haikyuu_Se...</td>\n",
       "      <td>25</td>\n",
       "      <td>88.2</td>\n",
       "      <td>drama</td>\n",
       "    </tr>\n",
       "    <tr>\n",
       "      <th>3</th>\n",
       "      <td>haikyuu second season</td>\n",
       "      <td>https://myanimelist.net/anime/28891/Haikyuu_Se...</td>\n",
       "      <td>25</td>\n",
       "      <td>88.2</td>\n",
       "      <td>school</td>\n",
       "    </tr>\n",
       "    <tr>\n",
       "      <th>4</th>\n",
       "      <td>haikyuu second season</td>\n",
       "      <td>https://myanimelist.net/anime/28891/Haikyuu_Se...</td>\n",
       "      <td>25</td>\n",
       "      <td>88.2</td>\n",
       "      <td>shounen</td>\n",
       "    </tr>\n",
       "  </tbody>\n",
       "</table>\n",
       "</div>"
      ],
      "text/plain": [
       "                   title                                                url  \\\n",
       "0  haikyuu second season  https://myanimelist.net/anime/28891/Haikyuu_Se...   \n",
       "1  haikyuu second season  https://myanimelist.net/anime/28891/Haikyuu_Se...   \n",
       "2  haikyuu second season  https://myanimelist.net/anime/28891/Haikyuu_Se...   \n",
       "3  haikyuu second season  https://myanimelist.net/anime/28891/Haikyuu_Se...   \n",
       "4  haikyuu second season  https://myanimelist.net/anime/28891/Haikyuu_Se...   \n",
       "\n",
       "   episodes  score     genre  \n",
       "0        25   88.2    comedy  \n",
       "1        25   88.2    sports  \n",
       "2        25   88.2     drama  \n",
       "3        25   88.2    school  \n",
       "4        25   88.2   shounen  "
      ]
     },
     "execution_count": 15,
     "metadata": {},
     "output_type": "execute_result"
    }
   ],
   "source": [
    "mal_df_2.head(5)"
   ]
  },
  {
   "cell_type": "code",
   "execution_count": 16,
   "metadata": {},
   "outputs": [],
   "source": [
    "crunchy_df_2['source'] = 'crunchyroll'\n",
    "mal_df_2['source']='myanimelist'"
   ]
  },
  {
   "cell_type": "code",
   "execution_count": 17,
   "metadata": {
    "scrolled": true
   },
   "outputs": [
    {
     "data": {
      "text/plain": [
       "title        object\n",
       "url          object\n",
       "episodes      int64\n",
       "score       float64\n",
       "genre        object\n",
       "source       object\n",
       "dtype: object"
      ]
     },
     "execution_count": 17,
     "metadata": {},
     "output_type": "execute_result"
    }
   ],
   "source": [
    "crunchy_df_2.dtypes"
   ]
  },
  {
   "cell_type": "code",
   "execution_count": 18,
   "metadata": {
    "scrolled": true
   },
   "outputs": [
    {
     "data": {
      "text/plain": [
       "title        object\n",
       "url          object\n",
       "episodes      int64\n",
       "score       float64\n",
       "genre        object\n",
       "source       object\n",
       "dtype: object"
      ]
     },
     "execution_count": 18,
     "metadata": {},
     "output_type": "execute_result"
    }
   ],
   "source": [
    "mal_df_2.dtypes"
   ]
  },
  {
   "cell_type": "markdown",
   "metadata": {},
   "source": [
    "# Append data frames, merge data frames and reset index"
   ]
  },
  {
   "cell_type": "code",
   "execution_count": 19,
   "metadata": {},
   "outputs": [
    {
     "data": {
      "text/plain": [
       "(81698, 6)"
      ]
     },
     "execution_count": 19,
     "metadata": {},
     "output_type": "execute_result"
    }
   ],
   "source": [
    "merge_df =crunchy_df_2.append(mal_df_2, ignore_index=True)\n",
    "merge_df.shape"
   ]
  },
  {
   "cell_type": "code",
   "execution_count": 20,
   "metadata": {},
   "outputs": [
    {
     "data": {
      "text/plain": [
       "Index(['title', 'url', 'episodes', 'score', 'genre', 'source'], dtype='object')"
      ]
     },
     "execution_count": 20,
     "metadata": {},
     "output_type": "execute_result"
    }
   ],
   "source": [
    "merge_df.columns"
   ]
  },
  {
   "cell_type": "code",
   "execution_count": 21,
   "metadata": {},
   "outputs": [
    {
     "data": {
      "text/html": [
       "<div>\n",
       "<style scoped>\n",
       "    .dataframe tbody tr th:only-of-type {\n",
       "        vertical-align: middle;\n",
       "    }\n",
       "\n",
       "    .dataframe tbody tr th {\n",
       "        vertical-align: top;\n",
       "    }\n",
       "\n",
       "    .dataframe thead th {\n",
       "        text-align: right;\n",
       "    }\n",
       "</style>\n",
       "<table border=\"1\" class=\"dataframe\">\n",
       "  <thead>\n",
       "    <tr style=\"text-align: right;\">\n",
       "      <th></th>\n",
       "      <th>title</th>\n",
       "      <th>url</th>\n",
       "      <th>episodes</th>\n",
       "      <th>score</th>\n",
       "      <th>genre</th>\n",
       "      <th>source</th>\n",
       "    </tr>\n",
       "  </thead>\n",
       "  <tbody>\n",
       "    <tr>\n",
       "      <th>0</th>\n",
       "      <td>naruto shippuuden</td>\n",
       "      <td>https://www.crunchyroll.com/naruto-shippuden</td>\n",
       "      <td>500</td>\n",
       "      <td>96.2</td>\n",
       "      <td>action</td>\n",
       "      <td>crunchyroll</td>\n",
       "    </tr>\n",
       "    <tr>\n",
       "      <th>1</th>\n",
       "      <td>shugo chara</td>\n",
       "      <td>https://www.crunchyroll.com/shugo-chara</td>\n",
       "      <td>51</td>\n",
       "      <td>97.2</td>\n",
       "      <td>action</td>\n",
       "      <td>crunchyroll</td>\n",
       "    </tr>\n",
       "    <tr>\n",
       "      <th>2</th>\n",
       "      <td>bleach</td>\n",
       "      <td>https://www.crunchyroll.com/bleach</td>\n",
       "      <td>366</td>\n",
       "      <td>96.6</td>\n",
       "      <td>action</td>\n",
       "      <td>crunchyroll</td>\n",
       "    </tr>\n",
       "    <tr>\n",
       "      <th>3</th>\n",
       "      <td>naruto</td>\n",
       "      <td>https://www.crunchyroll.com/naruto</td>\n",
       "      <td>220</td>\n",
       "      <td>96.0</td>\n",
       "      <td>action</td>\n",
       "      <td>crunchyroll</td>\n",
       "    </tr>\n",
       "    <tr>\n",
       "      <th>4</th>\n",
       "      <td>skip beat</td>\n",
       "      <td>https://www.crunchyroll.com/skip-beat</td>\n",
       "      <td>0</td>\n",
       "      <td>98.2</td>\n",
       "      <td>action</td>\n",
       "      <td>crunchyroll</td>\n",
       "    </tr>\n",
       "    <tr>\n",
       "      <th>...</th>\n",
       "      <td>...</td>\n",
       "      <td>...</td>\n",
       "      <td>...</td>\n",
       "      <td>...</td>\n",
       "      <td>...</td>\n",
       "      <td>...</td>\n",
       "    </tr>\n",
       "    <tr>\n",
       "      <th>81693</th>\n",
       "      <td>chuunibyou demo koi ga shitai kirameki no slap...</td>\n",
       "      <td>https://myanimelist.net/anime/16934/Chuunibyou...</td>\n",
       "      <td>1</td>\n",
       "      <td>75.6</td>\n",
       "      <td>comedy</td>\n",
       "      <td>myanimelist</td>\n",
       "    </tr>\n",
       "    <tr>\n",
       "      <th>81694</th>\n",
       "      <td>chuunibyou demo koi ga shitai kirameki no slap...</td>\n",
       "      <td>https://myanimelist.net/anime/16934/Chuunibyou...</td>\n",
       "      <td>1</td>\n",
       "      <td>75.6</td>\n",
       "      <td>drama</td>\n",
       "      <td>myanimelist</td>\n",
       "    </tr>\n",
       "    <tr>\n",
       "      <th>81695</th>\n",
       "      <td>chuunibyou demo koi ga shitai kirameki no slap...</td>\n",
       "      <td>https://myanimelist.net/anime/16934/Chuunibyou...</td>\n",
       "      <td>1</td>\n",
       "      <td>75.6</td>\n",
       "      <td>romance</td>\n",
       "      <td>myanimelist</td>\n",
       "    </tr>\n",
       "    <tr>\n",
       "      <th>81696</th>\n",
       "      <td>chuunibyou demo koi ga shitai kirameki no slap...</td>\n",
       "      <td>https://myanimelist.net/anime/16934/Chuunibyou...</td>\n",
       "      <td>1</td>\n",
       "      <td>75.6</td>\n",
       "      <td>school</td>\n",
       "      <td>myanimelist</td>\n",
       "    </tr>\n",
       "    <tr>\n",
       "      <th>81697</th>\n",
       "      <td>chuunibyou demo koi ga shitai kirameki no slap...</td>\n",
       "      <td>https://myanimelist.net/anime/16934/Chuunibyou...</td>\n",
       "      <td>1</td>\n",
       "      <td>75.6</td>\n",
       "      <td>slice of life</td>\n",
       "      <td>myanimelist</td>\n",
       "    </tr>\n",
       "  </tbody>\n",
       "</table>\n",
       "<p>81698 rows × 6 columns</p>\n",
       "</div>"
      ],
      "text/plain": [
       "                                                   title  \\\n",
       "0                                      naruto shippuuden   \n",
       "1                                            shugo chara   \n",
       "2                                                 bleach   \n",
       "3                                                 naruto   \n",
       "4                                              skip beat   \n",
       "...                                                  ...   \n",
       "81693  chuunibyou demo koi ga shitai kirameki no slap...   \n",
       "81694  chuunibyou demo koi ga shitai kirameki no slap...   \n",
       "81695  chuunibyou demo koi ga shitai kirameki no slap...   \n",
       "81696  chuunibyou demo koi ga shitai kirameki no slap...   \n",
       "81697  chuunibyou demo koi ga shitai kirameki no slap...   \n",
       "\n",
       "                                                     url  episodes  score  \\\n",
       "0           https://www.crunchyroll.com/naruto-shippuden       500   96.2   \n",
       "1                https://www.crunchyroll.com/shugo-chara        51   97.2   \n",
       "2                     https://www.crunchyroll.com/bleach       366   96.6   \n",
       "3                     https://www.crunchyroll.com/naruto       220   96.0   \n",
       "4                  https://www.crunchyroll.com/skip-beat         0   98.2   \n",
       "...                                                  ...       ...    ...   \n",
       "81693  https://myanimelist.net/anime/16934/Chuunibyou...         1   75.6   \n",
       "81694  https://myanimelist.net/anime/16934/Chuunibyou...         1   75.6   \n",
       "81695  https://myanimelist.net/anime/16934/Chuunibyou...         1   75.6   \n",
       "81696  https://myanimelist.net/anime/16934/Chuunibyou...         1   75.6   \n",
       "81697  https://myanimelist.net/anime/16934/Chuunibyou...         1   75.6   \n",
       "\n",
       "                genre       source  \n",
       "0              action  crunchyroll  \n",
       "1              action  crunchyroll  \n",
       "2              action  crunchyroll  \n",
       "3              action  crunchyroll  \n",
       "4              action  crunchyroll  \n",
       "...               ...          ...  \n",
       "81693          comedy  myanimelist  \n",
       "81694           drama  myanimelist  \n",
       "81695         romance  myanimelist  \n",
       "81696          school  myanimelist  \n",
       "81697   slice of life  myanimelist  \n",
       "\n",
       "[81698 rows x 6 columns]"
      ]
     },
     "execution_count": 21,
     "metadata": {},
     "output_type": "execute_result"
    }
   ],
   "source": [
    "#ready to use dataframe, from here we shoul extract the relational tables for sql database\n",
    "merge_df"
   ]
  },
  {
   "cell_type": "markdown",
   "metadata": {},
   "source": [
    "## Create tables to input into database"
   ]
  },
  {
   "cell_type": "code",
   "execution_count": 57,
   "metadata": {},
   "outputs": [
    {
     "data": {
      "text/html": [
       "<div>\n",
       "<style scoped>\n",
       "    .dataframe tbody tr th:only-of-type {\n",
       "        vertical-align: middle;\n",
       "    }\n",
       "\n",
       "    .dataframe tbody tr th {\n",
       "        vertical-align: top;\n",
       "    }\n",
       "\n",
       "    .dataframe thead th {\n",
       "        text-align: right;\n",
       "    }\n",
       "</style>\n",
       "<table border=\"1\" class=\"dataframe\">\n",
       "  <thead>\n",
       "    <tr style=\"text-align: right;\">\n",
       "      <th></th>\n",
       "      <th>id_anime</th>\n",
       "      <th>title</th>\n",
       "      <th>episodes</th>\n",
       "    </tr>\n",
       "  </thead>\n",
       "  <tbody>\n",
       "    <tr>\n",
       "      <th>0</th>\n",
       "      <td>0</td>\n",
       "      <td>naruto shippuuden</td>\n",
       "      <td>500</td>\n",
       "    </tr>\n",
       "    <tr>\n",
       "      <th>1</th>\n",
       "      <td>1</td>\n",
       "      <td>shugo chara</td>\n",
       "      <td>51</td>\n",
       "    </tr>\n",
       "    <tr>\n",
       "      <th>2</th>\n",
       "      <td>2</td>\n",
       "      <td>bleach</td>\n",
       "      <td>366</td>\n",
       "    </tr>\n",
       "    <tr>\n",
       "      <th>3</th>\n",
       "      <td>3</td>\n",
       "      <td>naruto</td>\n",
       "      <td>220</td>\n",
       "    </tr>\n",
       "    <tr>\n",
       "      <th>4</th>\n",
       "      <td>4</td>\n",
       "      <td>skip beat</td>\n",
       "      <td>0</td>\n",
       "    </tr>\n",
       "  </tbody>\n",
       "</table>\n",
       "</div>"
      ],
      "text/plain": [
       "   id_anime              title  episodes\n",
       "0         0  naruto shippuuden       500\n",
       "1         1        shugo chara        51\n",
       "2         2             bleach       366\n",
       "3         3             naruto       220\n",
       "4         4          skip beat         0"
      ]
     },
     "execution_count": 57,
     "metadata": {},
     "output_type": "execute_result"
    }
   ],
   "source": [
    "#Anime Catalogue\n",
    "Anime_Catalogue_df = merge_df[['title','episodes']].copy()\n",
    "Anime_Catalogue_df = Anime_Catalogue_df.drop_duplicates('title')\n",
    "Anime_Catalogue_df = Anime_Catalogue_df.reset_index()\n",
    "Anime_Catalogue_df = Anime_Catalogue_df.drop(['index'],axis= 1)\n",
    "Anime_Catalogue_df = Anime_Catalogue_df.reset_index()\n",
    "Anime_Catalogue_df= Anime_Catalogue_df.rename(columns={'index':'id_anime'})\n",
    "Anime_Catalogue_df.head(5)"
   ]
  },
  {
   "cell_type": "code",
   "execution_count": 58,
   "metadata": {},
   "outputs": [
    {
     "data": {
      "text/html": [
       "<div>\n",
       "<style scoped>\n",
       "    .dataframe tbody tr th:only-of-type {\n",
       "        vertical-align: middle;\n",
       "    }\n",
       "\n",
       "    .dataframe tbody tr th {\n",
       "        vertical-align: top;\n",
       "    }\n",
       "\n",
       "    .dataframe thead th {\n",
       "        text-align: right;\n",
       "    }\n",
       "</style>\n",
       "<table border=\"1\" class=\"dataframe\">\n",
       "  <thead>\n",
       "    <tr style=\"text-align: right;\">\n",
       "      <th></th>\n",
       "      <th>id_source</th>\n",
       "      <th>source</th>\n",
       "    </tr>\n",
       "  </thead>\n",
       "  <tbody>\n",
       "    <tr>\n",
       "      <th>0</th>\n",
       "      <td>0</td>\n",
       "      <td>crunchyroll</td>\n",
       "    </tr>\n",
       "    <tr>\n",
       "      <th>1</th>\n",
       "      <td>1</td>\n",
       "      <td>myanimelist</td>\n",
       "    </tr>\n",
       "  </tbody>\n",
       "</table>\n",
       "</div>"
      ],
      "text/plain": [
       "   id_source       source\n",
       "0          0  crunchyroll\n",
       "1          1  myanimelist"
      ]
     },
     "execution_count": 58,
     "metadata": {},
     "output_type": "execute_result"
    }
   ],
   "source": [
    "#Origin\n",
    "Origin_df = merge_df[['source']].copy()\n",
    "Origin_df  = Origin_df.drop_duplicates('source')\n",
    "Origin_df  = Origin_df.reset_index()\n",
    "Origin_df  = Origin_df.drop(['index'],axis= 1)\n",
    "Origin_df  = Origin_df.reset_index()\n",
    "Origin_df =  Origin_df.rename(columns={'index':'id_source'})\n",
    "Origin_df.head(5)"
   ]
  },
  {
   "cell_type": "code",
   "execution_count": 59,
   "metadata": {
    "scrolled": true
   },
   "outputs": [
    {
     "data": {
      "text/html": [
       "<div>\n",
       "<style scoped>\n",
       "    .dataframe tbody tr th:only-of-type {\n",
       "        vertical-align: middle;\n",
       "    }\n",
       "\n",
       "    .dataframe tbody tr th {\n",
       "        vertical-align: top;\n",
       "    }\n",
       "\n",
       "    .dataframe thead th {\n",
       "        text-align: right;\n",
       "    }\n",
       "</style>\n",
       "<table border=\"1\" class=\"dataframe\">\n",
       "  <thead>\n",
       "    <tr style=\"text-align: right;\">\n",
       "      <th></th>\n",
       "      <th>id_genre</th>\n",
       "      <th>genre</th>\n",
       "    </tr>\n",
       "  </thead>\n",
       "  <tbody>\n",
       "    <tr>\n",
       "      <th>0</th>\n",
       "      <td>0</td>\n",
       "      <td>action</td>\n",
       "    </tr>\n",
       "    <tr>\n",
       "      <th>1</th>\n",
       "      <td>1</td>\n",
       "      <td>adventure</td>\n",
       "    </tr>\n",
       "    <tr>\n",
       "      <th>2</th>\n",
       "      <td>2</td>\n",
       "      <td>comedy</td>\n",
       "    </tr>\n",
       "    <tr>\n",
       "      <th>3</th>\n",
       "      <td>3</td>\n",
       "      <td>drama</td>\n",
       "    </tr>\n",
       "    <tr>\n",
       "      <th>4</th>\n",
       "      <td>4</td>\n",
       "      <td>family</td>\n",
       "    </tr>\n",
       "  </tbody>\n",
       "</table>\n",
       "</div>"
      ],
      "text/plain": [
       "   id_genre      genre\n",
       "0         0     action\n",
       "1         1  adventure\n",
       "2         2     comedy\n",
       "3         3      drama\n",
       "4         4     family"
      ]
     },
     "execution_count": 59,
     "metadata": {},
     "output_type": "execute_result"
    }
   ],
   "source": [
    "#genre\n",
    "genre_df = merge_df[['genre']].copy()\n",
    "genre_df  = genre_df.drop_duplicates('genre')\n",
    "genre_df  = genre_df.reset_index()\n",
    "genre_df  = genre_df.drop(['index'],axis= 1)\n",
    "genre_df  = genre_df.reset_index()\n",
    "genre_df =  genre_df.rename(columns={'index':'id_genre'})\n",
    "genre_df.head(5)"
   ]
  },
  {
   "cell_type": "code",
   "execution_count": 60,
   "metadata": {},
   "outputs": [
    {
     "data": {
      "text/plain": [
       "array(['title', 'url', 'episodes_x', 'score', 'genre', 'source',\n",
       "       'id_source', 'id_anime', 'episodes_y', 'id_genre'], dtype=object)"
      ]
     },
     "execution_count": 60,
     "metadata": {},
     "output_type": "execute_result"
    }
   ],
   "source": [
    "#For ratings,and link separation\n",
    "General_df = merge_df.merge(Origin_df, left_on='source', right_on='source', how='left')\n",
    "General_df = General_df.merge(Anime_Catalogue_df, left_on='title', right_on='title', how='left')\n",
    "General_df =  General_df.merge(genre_df, left_on='genre', right_on='genre', how='left')\n",
    "General_df.columns.values"
   ]
  },
  {
   "cell_type": "code",
   "execution_count": 61,
   "metadata": {},
   "outputs": [
    {
     "data": {
      "text/html": [
       "<div>\n",
       "<style scoped>\n",
       "    .dataframe tbody tr th:only-of-type {\n",
       "        vertical-align: middle;\n",
       "    }\n",
       "\n",
       "    .dataframe tbody tr th {\n",
       "        vertical-align: top;\n",
       "    }\n",
       "\n",
       "    .dataframe thead th {\n",
       "        text-align: right;\n",
       "    }\n",
       "</style>\n",
       "<table border=\"1\" class=\"dataframe\">\n",
       "  <thead>\n",
       "    <tr style=\"text-align: right;\">\n",
       "      <th></th>\n",
       "      <th>id_ratings</th>\n",
       "      <th>id_anime</th>\n",
       "      <th>id_source</th>\n",
       "      <th>score</th>\n",
       "    </tr>\n",
       "  </thead>\n",
       "  <tbody>\n",
       "    <tr>\n",
       "      <th>16426</th>\n",
       "      <td>16426</td>\n",
       "      <td>16426</td>\n",
       "      <td>1</td>\n",
       "      <td>72.0</td>\n",
       "    </tr>\n",
       "    <tr>\n",
       "      <th>16427</th>\n",
       "      <td>16427</td>\n",
       "      <td>16427</td>\n",
       "      <td>1</td>\n",
       "      <td>72.0</td>\n",
       "    </tr>\n",
       "    <tr>\n",
       "      <th>16428</th>\n",
       "      <td>16428</td>\n",
       "      <td>16428</td>\n",
       "      <td>1</td>\n",
       "      <td>72.0</td>\n",
       "    </tr>\n",
       "    <tr>\n",
       "      <th>16429</th>\n",
       "      <td>16429</td>\n",
       "      <td>16429</td>\n",
       "      <td>1</td>\n",
       "      <td>72.0</td>\n",
       "    </tr>\n",
       "    <tr>\n",
       "      <th>16430</th>\n",
       "      <td>16430</td>\n",
       "      <td>16430</td>\n",
       "      <td>1</td>\n",
       "      <td>72.0</td>\n",
       "    </tr>\n",
       "    <tr>\n",
       "      <th>...</th>\n",
       "      <td>...</td>\n",
       "      <td>...</td>\n",
       "      <td>...</td>\n",
       "      <td>...</td>\n",
       "    </tr>\n",
       "    <tr>\n",
       "      <th>16521</th>\n",
       "      <td>16521</td>\n",
       "      <td>16521</td>\n",
       "      <td>1</td>\n",
       "      <td>74.8</td>\n",
       "    </tr>\n",
       "    <tr>\n",
       "      <th>16522</th>\n",
       "      <td>16522</td>\n",
       "      <td>16522</td>\n",
       "      <td>1</td>\n",
       "      <td>75.0</td>\n",
       "    </tr>\n",
       "    <tr>\n",
       "      <th>16523</th>\n",
       "      <td>16523</td>\n",
       "      <td>16523</td>\n",
       "      <td>1</td>\n",
       "      <td>75.0</td>\n",
       "    </tr>\n",
       "    <tr>\n",
       "      <th>16524</th>\n",
       "      <td>16524</td>\n",
       "      <td>16524</td>\n",
       "      <td>1</td>\n",
       "      <td>75.6</td>\n",
       "    </tr>\n",
       "    <tr>\n",
       "      <th>16525</th>\n",
       "      <td>16525</td>\n",
       "      <td>16525</td>\n",
       "      <td>1</td>\n",
       "      <td>75.6</td>\n",
       "    </tr>\n",
       "  </tbody>\n",
       "</table>\n",
       "<p>100 rows × 4 columns</p>\n",
       "</div>"
      ],
      "text/plain": [
       "       id_ratings  id_anime  id_source  score\n",
       "16426       16426     16426          1   72.0\n",
       "16427       16427     16427          1   72.0\n",
       "16428       16428     16428          1   72.0\n",
       "16429       16429     16429          1   72.0\n",
       "16430       16430     16430          1   72.0\n",
       "...           ...       ...        ...    ...\n",
       "16521       16521     16521          1   74.8\n",
       "16522       16522     16522          1   75.0\n",
       "16523       16523     16523          1   75.0\n",
       "16524       16524     16524          1   75.6\n",
       "16525       16525     16525          1   75.6\n",
       "\n",
       "[100 rows x 4 columns]"
      ]
     },
     "execution_count": 61,
     "metadata": {},
     "output_type": "execute_result"
    }
   ],
   "source": [
    "#ratings\n",
    "Ratings_df = General_df[['id_anime','id_source','score']].copy()\n",
    "Ratings_df =Ratings_df.drop_duplicates('id_anime')\n",
    "Ratings_df = Ratings_df.reset_index()\n",
    "Ratings_df = Ratings_df.drop(['index'],axis= 1)\n",
    "Ratings_df = Ratings_df.reset_index()\n",
    "Ratings_df =  Ratings_df.rename(columns={'index':'id_ratings'})\n",
    "Ratings_df.tail(100)"
   ]
  },
  {
   "cell_type": "code",
   "execution_count": 65,
   "metadata": {},
   "outputs": [
    {
     "data": {
      "text/html": [
       "<div>\n",
       "<style scoped>\n",
       "    .dataframe tbody tr th:only-of-type {\n",
       "        vertical-align: middle;\n",
       "    }\n",
       "\n",
       "    .dataframe tbody tr th {\n",
       "        vertical-align: top;\n",
       "    }\n",
       "\n",
       "    .dataframe thead th {\n",
       "        text-align: right;\n",
       "    }\n",
       "</style>\n",
       "<table border=\"1\" class=\"dataframe\">\n",
       "  <thead>\n",
       "    <tr style=\"text-align: right;\">\n",
       "      <th></th>\n",
       "      <th>id_url</th>\n",
       "      <th>id_anime</th>\n",
       "      <th>id_source</th>\n",
       "      <th>url</th>\n",
       "    </tr>\n",
       "  </thead>\n",
       "  <tbody>\n",
       "    <tr>\n",
       "      <th>16426</th>\n",
       "      <td>16426</td>\n",
       "      <td>16426</td>\n",
       "      <td>1</td>\n",
       "      <td>https://myanimelist.net/anime/3218/Gensoumaden...</td>\n",
       "    </tr>\n",
       "    <tr>\n",
       "      <th>16427</th>\n",
       "      <td>16427</td>\n",
       "      <td>16427</td>\n",
       "      <td>1</td>\n",
       "      <td>https://myanimelist.net/anime/2624/Flanders_no...</td>\n",
       "    </tr>\n",
       "    <tr>\n",
       "      <th>16428</th>\n",
       "      <td>16428</td>\n",
       "      <td>16428</td>\n",
       "      <td>1</td>\n",
       "      <td>https://myanimelist.net/anime/2668/Doraemon_Mo...</td>\n",
       "    </tr>\n",
       "    <tr>\n",
       "      <th>16429</th>\n",
       "      <td>16429</td>\n",
       "      <td>16429</td>\n",
       "      <td>1</td>\n",
       "      <td>https://myanimelist.net/anime/5760/Dororo_to_H...</td>\n",
       "    </tr>\n",
       "    <tr>\n",
       "      <th>16430</th>\n",
       "      <td>16430</td>\n",
       "      <td>16430</td>\n",
       "      <td>1</td>\n",
       "      <td>https://myanimelist.net/anime/1534/Futari_wa_P...</td>\n",
       "    </tr>\n",
       "    <tr>\n",
       "      <th>...</th>\n",
       "      <td>...</td>\n",
       "      <td>...</td>\n",
       "      <td>...</td>\n",
       "      <td>...</td>\n",
       "    </tr>\n",
       "    <tr>\n",
       "      <th>16521</th>\n",
       "      <td>16521</td>\n",
       "      <td>16521</td>\n",
       "      <td>1</td>\n",
       "      <td>https://myanimelist.net/anime/36043/Net-juu_no...</td>\n",
       "    </tr>\n",
       "    <tr>\n",
       "      <th>16522</th>\n",
       "      <td>16522</td>\n",
       "      <td>16522</td>\n",
       "      <td>1</td>\n",
       "      <td>https://myanimelist.net/anime/10075/Naruto_x_UT</td>\n",
       "    </tr>\n",
       "    <tr>\n",
       "      <th>16523</th>\n",
       "      <td>16523</td>\n",
       "      <td>16523</td>\n",
       "      <td>1</td>\n",
       "      <td>https://myanimelist.net/anime/35828/Miira_no_K...</td>\n",
       "    </tr>\n",
       "    <tr>\n",
       "      <th>16524</th>\n",
       "      <td>16524</td>\n",
       "      <td>16524</td>\n",
       "      <td>1</td>\n",
       "      <td>https://myanimelist.net/anime/33082/Kingsglaiv...</td>\n",
       "    </tr>\n",
       "    <tr>\n",
       "      <th>16525</th>\n",
       "      <td>16525</td>\n",
       "      <td>16525</td>\n",
       "      <td>1</td>\n",
       "      <td>https://myanimelist.net/anime/16934/Chuunibyou...</td>\n",
       "    </tr>\n",
       "  </tbody>\n",
       "</table>\n",
       "<p>100 rows × 4 columns</p>\n",
       "</div>"
      ],
      "text/plain": [
       "       id_url  id_anime  id_source  \\\n",
       "16426   16426     16426          1   \n",
       "16427   16427     16427          1   \n",
       "16428   16428     16428          1   \n",
       "16429   16429     16429          1   \n",
       "16430   16430     16430          1   \n",
       "...       ...       ...        ...   \n",
       "16521   16521     16521          1   \n",
       "16522   16522     16522          1   \n",
       "16523   16523     16523          1   \n",
       "16524   16524     16524          1   \n",
       "16525   16525     16525          1   \n",
       "\n",
       "                                                     url  \n",
       "16426  https://myanimelist.net/anime/3218/Gensoumaden...  \n",
       "16427  https://myanimelist.net/anime/2624/Flanders_no...  \n",
       "16428  https://myanimelist.net/anime/2668/Doraemon_Mo...  \n",
       "16429  https://myanimelist.net/anime/5760/Dororo_to_H...  \n",
       "16430  https://myanimelist.net/anime/1534/Futari_wa_P...  \n",
       "...                                                  ...  \n",
       "16521  https://myanimelist.net/anime/36043/Net-juu_no...  \n",
       "16522    https://myanimelist.net/anime/10075/Naruto_x_UT  \n",
       "16523  https://myanimelist.net/anime/35828/Miira_no_K...  \n",
       "16524  https://myanimelist.net/anime/33082/Kingsglaiv...  \n",
       "16525  https://myanimelist.net/anime/16934/Chuunibyou...  \n",
       "\n",
       "[100 rows x 4 columns]"
      ]
     },
     "execution_count": 65,
     "metadata": {},
     "output_type": "execute_result"
    }
   ],
   "source": [
    "#Link\n",
    "Links_df = General_df[['id_anime','id_source','url']].copy()\n",
    "Links_df =Links_df.drop_duplicates('id_anime')\n",
    "Links_df = Links_df.reset_index()\n",
    "Links_df =Links_df.drop(['index'],axis= 1)\n",
    "Links_df =Links_df.reset_index()\n",
    "Links_df =  Links_df.rename(columns={'index':'id_url'})\n",
    "Links_df.tail(100)"
   ]
  },
  {
   "cell_type": "code",
   "execution_count": 64,
   "metadata": {},
   "outputs": [
    {
     "data": {
      "text/html": [
       "<div>\n",
       "<style scoped>\n",
       "    .dataframe tbody tr th:only-of-type {\n",
       "        vertical-align: middle;\n",
       "    }\n",
       "\n",
       "    .dataframe tbody tr th {\n",
       "        vertical-align: top;\n",
       "    }\n",
       "\n",
       "    .dataframe thead th {\n",
       "        text-align: right;\n",
       "    }\n",
       "</style>\n",
       "<table border=\"1\" class=\"dataframe\">\n",
       "  <thead>\n",
       "    <tr style=\"text-align: right;\">\n",
       "      <th></th>\n",
       "      <th>id_anime</th>\n",
       "      <th>id_genre</th>\n",
       "      <th>id_source</th>\n",
       "    </tr>\n",
       "  </thead>\n",
       "  <tbody>\n",
       "    <tr>\n",
       "      <th>0</th>\n",
       "      <td>0</td>\n",
       "      <td>0</td>\n",
       "      <td>0</td>\n",
       "    </tr>\n",
       "    <tr>\n",
       "      <th>1</th>\n",
       "      <td>1</td>\n",
       "      <td>0</td>\n",
       "      <td>0</td>\n",
       "    </tr>\n",
       "    <tr>\n",
       "      <th>2</th>\n",
       "      <td>2</td>\n",
       "      <td>0</td>\n",
       "      <td>0</td>\n",
       "    </tr>\n",
       "    <tr>\n",
       "      <th>3</th>\n",
       "      <td>3</td>\n",
       "      <td>0</td>\n",
       "      <td>0</td>\n",
       "    </tr>\n",
       "    <tr>\n",
       "      <th>4</th>\n",
       "      <td>4</td>\n",
       "      <td>0</td>\n",
       "      <td>0</td>\n",
       "    </tr>\n",
       "    <tr>\n",
       "      <th>...</th>\n",
       "      <td>...</td>\n",
       "      <td>...</td>\n",
       "      <td>...</td>\n",
       "    </tr>\n",
       "    <tr>\n",
       "      <th>81676</th>\n",
       "      <td>16520</td>\n",
       "      <td>34</td>\n",
       "      <td>1</td>\n",
       "    </tr>\n",
       "    <tr>\n",
       "      <th>81678</th>\n",
       "      <td>16521</td>\n",
       "      <td>73</td>\n",
       "      <td>1</td>\n",
       "    </tr>\n",
       "    <tr>\n",
       "      <th>81683</th>\n",
       "      <td>16522</td>\n",
       "      <td>47</td>\n",
       "      <td>1</td>\n",
       "    </tr>\n",
       "    <tr>\n",
       "      <th>81684</th>\n",
       "      <td>16522</td>\n",
       "      <td>66</td>\n",
       "      <td>1</td>\n",
       "    </tr>\n",
       "    <tr>\n",
       "      <th>81697</th>\n",
       "      <td>16525</td>\n",
       "      <td>43</td>\n",
       "      <td>1</td>\n",
       "    </tr>\n",
       "  </tbody>\n",
       "</table>\n",
       "<p>15675 rows × 3 columns</p>\n",
       "</div>"
      ],
      "text/plain": [
       "       id_anime  id_genre  id_source\n",
       "0             0         0          0\n",
       "1             1         0          0\n",
       "2             2         0          0\n",
       "3             3         0          0\n",
       "4             4         0          0\n",
       "...         ...       ...        ...\n",
       "81676     16520        34          1\n",
       "81678     16521        73          1\n",
       "81683     16522        47          1\n",
       "81684     16522        66          1\n",
       "81697     16525        43          1\n",
       "\n",
       "[15675 rows x 3 columns]"
      ]
     },
     "execution_count": 64,
     "metadata": {},
     "output_type": "execute_result"
    }
   ],
   "source": [
    "#Anime, Genre, Source foreign keys table\n",
    "AGS_df = General_df[['id_anime','id_genre','id_source']].copy()\n",
    "AGS_df['AGS']=AGS_df.id_anime+AGS_df.id_genre+AGS_df.id_source\n",
    "AGS_df=AGS_df.drop_duplicates('AGS')\n",
    "AGS_df=AGS_df.drop(['AGS'], axis=1)\n",
    "AGS_df"
   ]
  },
  {
   "cell_type": "markdown",
   "metadata": {},
   "source": [
    "# Connect to database,and export created tables"
   ]
  },
  {
   "cell_type": "code",
   "execution_count": 68,
   "metadata": {},
   "outputs": [],
   "source": [
    "rds_connection_string = \"postgres:ihatefred@localhost:5432/Anime_db\"\n",
    "engine = create_engine(f'postgresql://{rds_connection_string}')"
   ]
  },
  {
   "cell_type": "code",
   "execution_count": 69,
   "metadata": {},
   "outputs": [
    {
     "data": {
      "text/plain": [
       "['anime_catalogue',\n",
       " 'ratings',\n",
       " 'origin',\n",
       " 'links',\n",
       " 'anime_genre_source',\n",
       " 'genre']"
      ]
     },
     "execution_count": 69,
     "metadata": {},
     "output_type": "execute_result"
    }
   ],
   "source": [
    "engine.table_names()"
   ]
  },
  {
   "cell_type": "code",
   "execution_count": 70,
   "metadata": {},
   "outputs": [],
   "source": [
    "Anime_Catalogue_df.to_sql(name='anime_catalogue', con=engine, if_exists='append', index=False)"
   ]
  },
  {
   "cell_type": "code",
   "execution_count": 71,
   "metadata": {},
   "outputs": [],
   "source": [
    "Origin_df.to_sql(name='origin', con=engine, if_exists='append', index=False)"
   ]
  },
  {
   "cell_type": "code",
   "execution_count": 72,
   "metadata": {},
   "outputs": [],
   "source": [
    "genre_df.to_sql(name='genre', con=engine, if_exists='append', index=False)"
   ]
  },
  {
   "cell_type": "code",
   "execution_count": 73,
   "metadata": {},
   "outputs": [],
   "source": [
    "Ratings_df.to_sql(name='ratings', con=engine, if_exists='append', index=False)"
   ]
  },
  {
   "cell_type": "code",
   "execution_count": 74,
   "metadata": {},
   "outputs": [],
   "source": [
    "Links_df.to_sql(name='links', con=engine, if_exists='append', index=False)"
   ]
  },
  {
   "cell_type": "code",
   "execution_count": 75,
   "metadata": {},
   "outputs": [],
   "source": [
    "AGS_df.to_sql(name='anime_genre_source', con=engine, if_exists='append', index=False)"
   ]
  },
  {
   "cell_type": "markdown",
   "metadata": {},
   "source": [
    "# Test to see if tables where copied correctly to db"
   ]
  },
  {
   "cell_type": "code",
   "execution_count": 76,
   "metadata": {},
   "outputs": [
    {
     "data": {
      "text/html": [
       "<div>\n",
       "<style scoped>\n",
       "    .dataframe tbody tr th:only-of-type {\n",
       "        vertical-align: middle;\n",
       "    }\n",
       "\n",
       "    .dataframe tbody tr th {\n",
       "        vertical-align: top;\n",
       "    }\n",
       "\n",
       "    .dataframe thead th {\n",
       "        text-align: right;\n",
       "    }\n",
       "</style>\n",
       "<table border=\"1\" class=\"dataframe\">\n",
       "  <thead>\n",
       "    <tr style=\"text-align: right;\">\n",
       "      <th></th>\n",
       "      <th>id_anime</th>\n",
       "      <th>title</th>\n",
       "      <th>episodes</th>\n",
       "    </tr>\n",
       "  </thead>\n",
       "  <tbody>\n",
       "    <tr>\n",
       "      <th>0</th>\n",
       "      <td>0</td>\n",
       "      <td>naruto shippuuden</td>\n",
       "      <td>500</td>\n",
       "    </tr>\n",
       "    <tr>\n",
       "      <th>1</th>\n",
       "      <td>1</td>\n",
       "      <td>shugo chara</td>\n",
       "      <td>51</td>\n",
       "    </tr>\n",
       "    <tr>\n",
       "      <th>2</th>\n",
       "      <td>2</td>\n",
       "      <td>bleach</td>\n",
       "      <td>366</td>\n",
       "    </tr>\n",
       "    <tr>\n",
       "      <th>3</th>\n",
       "      <td>3</td>\n",
       "      <td>naruto</td>\n",
       "      <td>220</td>\n",
       "    </tr>\n",
       "    <tr>\n",
       "      <th>4</th>\n",
       "      <td>4</td>\n",
       "      <td>skip beat</td>\n",
       "      <td>0</td>\n",
       "    </tr>\n",
       "  </tbody>\n",
       "</table>\n",
       "</div>"
      ],
      "text/plain": [
       "   id_anime              title  episodes\n",
       "0         0  naruto shippuuden       500\n",
       "1         1        shugo chara        51\n",
       "2         2             bleach       366\n",
       "3         3             naruto       220\n",
       "4         4          skip beat         0"
      ]
     },
     "execution_count": 76,
     "metadata": {},
     "output_type": "execute_result"
    }
   ],
   "source": [
    "pd.read_sql_query('select * from anime_catalogue', con=engine).head()"
   ]
  },
  {
   "cell_type": "code",
   "execution_count": 77,
   "metadata": {},
   "outputs": [
    {
     "data": {
      "text/html": [
       "<div>\n",
       "<style scoped>\n",
       "    .dataframe tbody tr th:only-of-type {\n",
       "        vertical-align: middle;\n",
       "    }\n",
       "\n",
       "    .dataframe tbody tr th {\n",
       "        vertical-align: top;\n",
       "    }\n",
       "\n",
       "    .dataframe thead th {\n",
       "        text-align: right;\n",
       "    }\n",
       "</style>\n",
       "<table border=\"1\" class=\"dataframe\">\n",
       "  <thead>\n",
       "    <tr style=\"text-align: right;\">\n",
       "      <th></th>\n",
       "      <th>id_ratings</th>\n",
       "      <th>id_anime</th>\n",
       "      <th>id_source</th>\n",
       "      <th>score</th>\n",
       "    </tr>\n",
       "  </thead>\n",
       "  <tbody>\n",
       "    <tr>\n",
       "      <th>0</th>\n",
       "      <td>0</td>\n",
       "      <td>0</td>\n",
       "      <td>0</td>\n",
       "      <td>96.2</td>\n",
       "    </tr>\n",
       "    <tr>\n",
       "      <th>1</th>\n",
       "      <td>1</td>\n",
       "      <td>1</td>\n",
       "      <td>0</td>\n",
       "      <td>97.2</td>\n",
       "    </tr>\n",
       "    <tr>\n",
       "      <th>2</th>\n",
       "      <td>2</td>\n",
       "      <td>2</td>\n",
       "      <td>0</td>\n",
       "      <td>96.6</td>\n",
       "    </tr>\n",
       "    <tr>\n",
       "      <th>3</th>\n",
       "      <td>3</td>\n",
       "      <td>3</td>\n",
       "      <td>0</td>\n",
       "      <td>96.0</td>\n",
       "    </tr>\n",
       "    <tr>\n",
       "      <th>4</th>\n",
       "      <td>4</td>\n",
       "      <td>4</td>\n",
       "      <td>0</td>\n",
       "      <td>98.2</td>\n",
       "    </tr>\n",
       "  </tbody>\n",
       "</table>\n",
       "</div>"
      ],
      "text/plain": [
       "   id_ratings  id_anime  id_source  score\n",
       "0           0         0          0   96.2\n",
       "1           1         1          0   97.2\n",
       "2           2         2          0   96.6\n",
       "3           3         3          0   96.0\n",
       "4           4         4          0   98.2"
      ]
     },
     "execution_count": 77,
     "metadata": {},
     "output_type": "execute_result"
    }
   ],
   "source": [
    "pd.read_sql_query('select * from ratings', con=engine).head()"
   ]
  },
  {
   "cell_type": "code",
   "execution_count": 78,
   "metadata": {},
   "outputs": [
    {
     "data": {
      "text/html": [
       "<div>\n",
       "<style scoped>\n",
       "    .dataframe tbody tr th:only-of-type {\n",
       "        vertical-align: middle;\n",
       "    }\n",
       "\n",
       "    .dataframe tbody tr th {\n",
       "        vertical-align: top;\n",
       "    }\n",
       "\n",
       "    .dataframe thead th {\n",
       "        text-align: right;\n",
       "    }\n",
       "</style>\n",
       "<table border=\"1\" class=\"dataframe\">\n",
       "  <thead>\n",
       "    <tr style=\"text-align: right;\">\n",
       "      <th></th>\n",
       "      <th>id_genre</th>\n",
       "      <th>genre</th>\n",
       "    </tr>\n",
       "  </thead>\n",
       "  <tbody>\n",
       "    <tr>\n",
       "      <th>0</th>\n",
       "      <td>0</td>\n",
       "      <td>action</td>\n",
       "    </tr>\n",
       "    <tr>\n",
       "      <th>1</th>\n",
       "      <td>1</td>\n",
       "      <td>adventure</td>\n",
       "    </tr>\n",
       "    <tr>\n",
       "      <th>2</th>\n",
       "      <td>2</td>\n",
       "      <td>comedy</td>\n",
       "    </tr>\n",
       "    <tr>\n",
       "      <th>3</th>\n",
       "      <td>3</td>\n",
       "      <td>drama</td>\n",
       "    </tr>\n",
       "    <tr>\n",
       "      <th>4</th>\n",
       "      <td>4</td>\n",
       "      <td>family</td>\n",
       "    </tr>\n",
       "  </tbody>\n",
       "</table>\n",
       "</div>"
      ],
      "text/plain": [
       "   id_genre      genre\n",
       "0         0     action\n",
       "1         1  adventure\n",
       "2         2     comedy\n",
       "3         3      drama\n",
       "4         4     family"
      ]
     },
     "execution_count": 78,
     "metadata": {},
     "output_type": "execute_result"
    }
   ],
   "source": [
    "pd.read_sql_query('select * from genre', con=engine).head()"
   ]
  },
  {
   "cell_type": "code",
   "execution_count": 79,
   "metadata": {},
   "outputs": [
    {
     "data": {
      "text/html": [
       "<div>\n",
       "<style scoped>\n",
       "    .dataframe tbody tr th:only-of-type {\n",
       "        vertical-align: middle;\n",
       "    }\n",
       "\n",
       "    .dataframe tbody tr th {\n",
       "        vertical-align: top;\n",
       "    }\n",
       "\n",
       "    .dataframe thead th {\n",
       "        text-align: right;\n",
       "    }\n",
       "</style>\n",
       "<table border=\"1\" class=\"dataframe\">\n",
       "  <thead>\n",
       "    <tr style=\"text-align: right;\">\n",
       "      <th></th>\n",
       "      <th>id_source</th>\n",
       "      <th>source</th>\n",
       "    </tr>\n",
       "  </thead>\n",
       "  <tbody>\n",
       "    <tr>\n",
       "      <th>0</th>\n",
       "      <td>0</td>\n",
       "      <td>crunchyroll</td>\n",
       "    </tr>\n",
       "    <tr>\n",
       "      <th>1</th>\n",
       "      <td>1</td>\n",
       "      <td>myanimelist</td>\n",
       "    </tr>\n",
       "  </tbody>\n",
       "</table>\n",
       "</div>"
      ],
      "text/plain": [
       "   id_source       source\n",
       "0          0  crunchyroll\n",
       "1          1  myanimelist"
      ]
     },
     "execution_count": 79,
     "metadata": {},
     "output_type": "execute_result"
    }
   ],
   "source": [
    "pd.read_sql_query('select * from origin', con=engine).head()"
   ]
  },
  {
   "cell_type": "code",
   "execution_count": 80,
   "metadata": {},
   "outputs": [
    {
     "data": {
      "text/html": [
       "<div>\n",
       "<style scoped>\n",
       "    .dataframe tbody tr th:only-of-type {\n",
       "        vertical-align: middle;\n",
       "    }\n",
       "\n",
       "    .dataframe tbody tr th {\n",
       "        vertical-align: top;\n",
       "    }\n",
       "\n",
       "    .dataframe thead th {\n",
       "        text-align: right;\n",
       "    }\n",
       "</style>\n",
       "<table border=\"1\" class=\"dataframe\">\n",
       "  <thead>\n",
       "    <tr style=\"text-align: right;\">\n",
       "      <th></th>\n",
       "      <th>id_url</th>\n",
       "      <th>id_anime</th>\n",
       "      <th>id_source</th>\n",
       "      <th>url</th>\n",
       "    </tr>\n",
       "  </thead>\n",
       "  <tbody>\n",
       "    <tr>\n",
       "      <th>0</th>\n",
       "      <td>0</td>\n",
       "      <td>0</td>\n",
       "      <td>0</td>\n",
       "      <td>https://www.crunchyroll.com/naruto-shippuden</td>\n",
       "    </tr>\n",
       "    <tr>\n",
       "      <th>1</th>\n",
       "      <td>1</td>\n",
       "      <td>1</td>\n",
       "      <td>0</td>\n",
       "      <td>https://www.crunchyroll.com/shugo-chara</td>\n",
       "    </tr>\n",
       "    <tr>\n",
       "      <th>2</th>\n",
       "      <td>2</td>\n",
       "      <td>2</td>\n",
       "      <td>0</td>\n",
       "      <td>https://www.crunchyroll.com/bleach</td>\n",
       "    </tr>\n",
       "    <tr>\n",
       "      <th>3</th>\n",
       "      <td>3</td>\n",
       "      <td>3</td>\n",
       "      <td>0</td>\n",
       "      <td>https://www.crunchyroll.com/naruto</td>\n",
       "    </tr>\n",
       "    <tr>\n",
       "      <th>4</th>\n",
       "      <td>4</td>\n",
       "      <td>4</td>\n",
       "      <td>0</td>\n",
       "      <td>https://www.crunchyroll.com/skip-beat</td>\n",
       "    </tr>\n",
       "  </tbody>\n",
       "</table>\n",
       "</div>"
      ],
      "text/plain": [
       "   id_url  id_anime  id_source                                           url\n",
       "0       0         0          0  https://www.crunchyroll.com/naruto-shippuden\n",
       "1       1         1          0       https://www.crunchyroll.com/shugo-chara\n",
       "2       2         2          0            https://www.crunchyroll.com/bleach\n",
       "3       3         3          0            https://www.crunchyroll.com/naruto\n",
       "4       4         4          0         https://www.crunchyroll.com/skip-beat"
      ]
     },
     "execution_count": 80,
     "metadata": {},
     "output_type": "execute_result"
    }
   ],
   "source": [
    "pd.read_sql_query('select * from links', con=engine).head()"
   ]
  },
  {
   "cell_type": "code",
   "execution_count": 81,
   "metadata": {},
   "outputs": [
    {
     "data": {
      "text/html": [
       "<div>\n",
       "<style scoped>\n",
       "    .dataframe tbody tr th:only-of-type {\n",
       "        vertical-align: middle;\n",
       "    }\n",
       "\n",
       "    .dataframe tbody tr th {\n",
       "        vertical-align: top;\n",
       "    }\n",
       "\n",
       "    .dataframe thead th {\n",
       "        text-align: right;\n",
       "    }\n",
       "</style>\n",
       "<table border=\"1\" class=\"dataframe\">\n",
       "  <thead>\n",
       "    <tr style=\"text-align: right;\">\n",
       "      <th></th>\n",
       "      <th>id_anime</th>\n",
       "      <th>id_genre</th>\n",
       "      <th>id_source</th>\n",
       "    </tr>\n",
       "  </thead>\n",
       "  <tbody>\n",
       "    <tr>\n",
       "      <th>0</th>\n",
       "      <td>0</td>\n",
       "      <td>0</td>\n",
       "      <td>0</td>\n",
       "    </tr>\n",
       "    <tr>\n",
       "      <th>1</th>\n",
       "      <td>1</td>\n",
       "      <td>0</td>\n",
       "      <td>0</td>\n",
       "    </tr>\n",
       "    <tr>\n",
       "      <th>2</th>\n",
       "      <td>2</td>\n",
       "      <td>0</td>\n",
       "      <td>0</td>\n",
       "    </tr>\n",
       "    <tr>\n",
       "      <th>3</th>\n",
       "      <td>3</td>\n",
       "      <td>0</td>\n",
       "      <td>0</td>\n",
       "    </tr>\n",
       "    <tr>\n",
       "      <th>4</th>\n",
       "      <td>4</td>\n",
       "      <td>0</td>\n",
       "      <td>0</td>\n",
       "    </tr>\n",
       "  </tbody>\n",
       "</table>\n",
       "</div>"
      ],
      "text/plain": [
       "   id_anime  id_genre  id_source\n",
       "0         0         0          0\n",
       "1         1         0          0\n",
       "2         2         0          0\n",
       "3         3         0          0\n",
       "4         4         0          0"
      ]
     },
     "execution_count": 81,
     "metadata": {},
     "output_type": "execute_result"
    }
   ],
   "source": [
    "pd.read_sql_query('select * from anime_genre_source', con=engine).head()"
   ]
  }
 ],
 "metadata": {
  "kernelspec": {
   "display_name": "Python 3",
   "language": "python",
   "name": "python3"
  },
  "language_info": {
   "codemirror_mode": {
    "name": "ipython",
    "version": 3
   },
   "file_extension": ".py",
   "mimetype": "text/x-python",
   "name": "python",
   "nbconvert_exporter": "python",
   "pygments_lexer": "ipython3",
   "version": "3.7.4"
  }
 },
 "nbformat": 4,
 "nbformat_minor": 2
}
